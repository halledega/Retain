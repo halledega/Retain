{
 "cells": [
  {
   "cell_type": "code",
   "execution_count": null,
   "id": "38bbdf59",
   "metadata": {},
   "outputs": [],
   "source": [
    "import mercury as mr\n",
    "app = mr.App(title=\"Hello demo 👋\", description=\"Hello demo with Text widget\", show_code=True)\n"
   ]
  },
  {
   "cell_type": "markdown",
   "id": "26e3ac39",
   "metadata": {},
   "source": [
    "# Mercury demo 👋\n",
    "\n",
    "Share your notebooks with everyone thanks to Mercury framework!\n",
    "\n",
    "Please write your name in the left side bar and press **Enter** ⌨️ \n",
    "\n",
    "The notebook will be automatically recomputed. Only cells with widget definition and below are recomputed. That's why it is fast!\n",
    "\n",
    "You can download executed notebook as HTML or PDF (just click in the left side bar).\n",
    "\n",
    "You can edit this notebook in the Jupyter Notebook, and changes will appear instantly in the Mercury.\n"
   ]
  },
  {
   "cell_type": "code",
   "execution_count": null,
   "id": "4e9afdaf",
   "metadata": {},
   "outputs": [],
   "source": [
    "name = mr.Text(label=\"What is you name?\", value=\"Piotr\")"
   ]
  },
  {
   "cell_type": "code",
   "execution_count": null,
   "id": "2950257f",
   "metadata": {},
   "outputs": [],
   "source": [
    "mr.Markdown(f\"\"\"## Hello {name.value}! \n",
    "\n",
    "For more examples please check our documentation at <a href=\"https://runmercury.com\" target=\"_blank\">RunMercury.com<a> 📚\n",
    "\"\"\")"
   ]
  }
 ],
 "metadata": {},
 "nbformat": 4,
 "nbformat_minor": 5
}
