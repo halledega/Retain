{
 "cells": [
  {
   "cell_type": "code",
   "execution_count": null,
   "id": "0b8b6d0a",
   "metadata": {},
   "outputs": [],
   "source": [
    "import pandas as pd\n",
    "import numpy as np\n",
    "from matplotlib import pyplot as plt"
   ]
  },
  {
   "cell_type": "code",
   "execution_count": null,
   "id": "62f15234",
   "metadata": {},
   "outputs": [],
   "source": [
    "import mercury as mr"
   ]
  },
  {
   "cell_type": "code",
   "execution_count": null,
   "id": "6cd339ee",
   "metadata": {},
   "outputs": [],
   "source": [
    "# control app with App class\n",
    "app = mr.App(title=\"DataFrame & Plots 🚀\", description=\"Showcase of Mercury Widgets\", show_code = False)"
   ]
  },
  {
   "cell_type": "markdown",
   "id": "05b81748",
   "metadata": {},
   "source": [
    "# DataFrame and Plots 🎲📊\n",
    "\n",
    "Share your notebooks with everyone thanks to Mercury framework.\n",
    "\n",
    "Please change number of samples and number of features in the left side bar. Notebook will be recomputed after widget change."
   ]
  },
  {
   "cell_type": "code",
   "execution_count": null,
   "id": "ff4570e0",
   "metadata": {},
   "outputs": [],
   "source": [
    "samples = mr.Slider(label=\"Number of samples\", min=50, max=100, value=75)\n",
    "features = mr.Select(label=\"Number of features\", choices=[\"5\", \"10\", \"15\"], value=\"10\")"
   ]
  },
  {
   "cell_type": "code",
   "execution_count": null,
   "id": "dd74379d",
   "metadata": {},
   "outputs": [],
   "source": [
    "data = {}\n",
    "for i in range(int(features.value)):\n",
    "    data[f\"Feature {i}\"] = np.random.rand(samples.value)\n",
    "df = pd.DataFrame(data)"
   ]
  },
  {
   "cell_type": "markdown",
   "id": "3b5c47aa",
   "metadata": {},
   "source": [
    "## Random data 🎲"
   ]
  },
  {
   "cell_type": "code",
   "execution_count": null,
   "id": "0d98f6f1",
   "metadata": {},
   "outputs": [],
   "source": [
    "df"
   ]
  },
  {
   "cell_type": "markdown",
   "id": "a2ce3e6d",
   "metadata": {},
   "source": [
    "## Scatter plot 📈"
   ]
  },
  {
   "cell_type": "code",
   "execution_count": null,
   "id": "bb3ed182",
   "metadata": {},
   "outputs": [],
   "source": [
    "_ = plt.plot(df[\"Feature 1\"], df[\"Feature 2\"], '*')"
   ]
  },
  {
   "cell_type": "markdown",
   "id": "c39d50d7",
   "metadata": {},
   "source": [
    "## Random data histogram 📊"
   ]
  },
  {
   "cell_type": "code",
   "execution_count": null,
   "id": "27b6d3f9",
   "metadata": {},
   "outputs": [],
   "source": [
    "_ = plt.hist(df[\"Feature 1\"], bins=40)"
   ]
  }
 ],
 "metadata": {},
 "nbformat": 4,
 "nbformat_minor": 5
}
