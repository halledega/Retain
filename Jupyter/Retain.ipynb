{
 "cells": [
  {
   "cell_type": "code",
   "execution_count": 7,
   "id": "af4b3243-e185-435b-bd9f-b4fecacb9210",
   "metadata": {},
   "outputs": [],
   "source": [
    "from rich import print\n",
    "import pandas as pd\n",
    "import numpy as np\n",
    "import matplotlib.pyplot as plt"
   ]
  },
  {
   "cell_type": "code",
   "execution_count": 8,
   "id": "67477807-5fa8-44ca-9ac5-392049d6d565",
   "metadata": {},
   "outputs": [],
   "source": [
    "#Soil Properties\n",
    "gamma_s = 19.0 # kPa/m\n",
    "ka = 0.33\n",
    "ko = 0\n",
    "kp = 3.0\n",
    "\n",
    "# concrete properties\n",
    "fc = 25 # MPa\n",
    "Ec = 4500*(fc**0.5) # MPa\n",
    "alpha1 = 0.91\n",
    "beta1 = 0.81"
   ]
  },
  {
   "cell_type": "code",
   "execution_count": 9,
   "id": "04f9e8d8-14e4-4270-824c-e3b86a1bbdf3",
   "metadata": {},
   "outputs": [],
   "source": [
    "# Geometry\n",
    "# Wall\n",
    "h = 1800 # mm\n",
    "tw = 200 # mm\n",
    "L = 1000 # mm\n",
    "\n",
    "# Footing\n",
    "tc = 300 # mm\n",
    "toe = 250 # mm\n",
    "b = 1500 # mm\n",
    "D = 300 # mm\n",
    "heel = b-toe-tw # mm"
   ]
  },
  {
   "cell_type": "code",
   "execution_count": 26,
   "id": "41fc4081-3a68-4fe8-a57d-b20800b1c3f0",
   "metadata": {},
   "outputs": [
    {
     "data": {
      "text/plain": [
       "15.048"
      ]
     },
     "execution_count": 26,
     "metadata": {},
     "output_type": "execute_result"
    }
   ],
   "source": [
    "# Loads\n",
    "# Soil\n",
    "q_soil = ka*gamma_s*((h+tc+D)/1000)*(L/1000) # kPa\n",
    "q_eq = 0.25*gamma_s*((h+tc+D)/1000)*(L/1000) # kPa\n",
    "\n",
    "# compaction\n",
    "q_comp = 5 # kPa\n",
    "\n",
    "# surcharge\n",
    "W_dl = 2.4 # kPa\n",
    "W_ll = 4.8 # kpa\n",
    "\n",
    "# Wall Loads\n",
    "P_dl = 100 # kN/m\n",
    "P_ll = 200 # kN/m\n",
    "\n",
    "q_soil"
   ]
  },
  {
   "cell_type": "code",
   "execution_count": 33,
   "id": "acc50ef9-5f7c-40c7-9056-6ed5c86d3b35",
   "metadata": {},
   "outputs": [],
   "source": [
    "# load cases\n",
    "loads = {}\n",
    "# Construction\n",
    "q_soil\n",
    "q_comp\n",
    "blend = True\n",
    "if blend:\n",
    "    x = q_comp/(ka*gamma_s*(L/1000))*1000\n",
    "    if x > (h+tc+D):\n",
    "        x = 0\n",
    "P_comp = q_comp*(h+tc+D)/1000*L/1000\n",
    "P_soil = q_soil*x/2000\n",
    "\n",
    "V = P_comp + P_soil\n",
    "M = P_comp*(h+tc+D)/2000 + P_soil * (h+tc+D)/3000\n",
    "geo_loads['LC1'] = [V,M]\n",
    "\n",
    "# Service\n",
    "q_soil\n",
    "q_comp\n",
    "blend = True\n",
    "if blend:\n",
    "    x = q_comp/(ka*gamma_s*(L/1000))*1000\n",
    "    if x > (h+tc+D):\n",
    "        x = 0\n",
    "P_comp = q_comp*(h+tc+D)/1000*L/1000\n",
    "P_soil = q_soil*x/2000\n",
    "\n",
    "V = P_comp + P_soil\n",
    "M = P_comp*(h+tc+D)/2000 + P_soil * (h+tc+D)/3000\n",
    "geo_loads['LC1'] = [V,M]"
   ]
  }
 ],
 "metadata": {
  "kernelspec": {
   "display_name": "Python 3 (ipykernel)",
   "language": "python",
   "name": "python3"
  },
  "language_info": {
   "codemirror_mode": {
    "name": "ipython",
    "version": 3
   },
   "file_extension": ".py",
   "mimetype": "text/x-python",
   "name": "python",
   "nbconvert_exporter": "python",
   "pygments_lexer": "ipython3",
   "version": "3.12.4"
  }
 },
 "nbformat": 4,
 "nbformat_minor": 5
}
