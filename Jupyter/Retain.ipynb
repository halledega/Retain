{
 "cells": [
  {
   "cell_type": "code",
   "execution_count": 1,
   "id": "af4b3243-e185-435b-bd9f-b4fecacb9210",
   "metadata": {},
   "outputs": [],
   "source": [
    "from typing import Dict\n",
    "from rich import print\n",
    "import pandas as pd\n",
    "import numpy as np\n",
    "import matplotlib.pyplot as plt\n",
    "#custom imports\n",
    "from Load import Load_Type, Load_Category, Load, Wall, Concrete, Soil"
   ]
  },
  {
   "cell_type": "code",
   "execution_count": 4,
   "id": "67477807-5fa8-44ca-9ac5-392049d6d565",
   "metadata": {},
   "outputs": [],
   "source": [
    "#Soil Properties\n",
    "gamma_s = 19.0 # kPa/m\n",
    "ka = 0.33\n",
    "ko = 0\n",
    "kp = 3.0\n",
    "Q_uls = 300\n",
    "Q_sls = 200\n",
    "mu = 0.4\n",
    "\n",
    "soil = Soil('soil', gamma_s, ka, ko, kp, Q_uls, Q_sls, mu)\n",
    "\n",
    "# concrete properties\n",
    "fc = 25 # MPa\n",
    "Ec = 4500*(fc**0.5) # MPa\n",
    "alpha1 = 0.91\n",
    "beta1 = 0.81\n",
    "\n",
    "C25 = Concrete('C25', fc)"
   ]
  },
  {
   "cell_type": "code",
   "execution_count": 5,
   "id": "04f9e8d8-14e4-4270-824c-e3b86a1bbdf3",
   "metadata": {},
   "outputs": [],
   "source": [
    "# Geometry\n",
    "# Wall\n",
    "h = 1800 # mm\n",
    "tw = 200 # mm\n",
    "L = 1000 # mm\n",
    "\n",
    "# Footing\n",
    "tc = 300 # mm\n",
    "toe = 250 # mm\n",
    "b = 1500 # mm\n",
    "D = 300 # mm\n",
    "heel = b-toe-tw # mm\n",
    "\n",
    "wall = Wall('wall1', h, tw, toe, b, D, heel, C25)"
   ]
  },
  {
   "cell_type": "code",
   "execution_count": 54,
   "id": "41fc4081-3a68-4fe8-a57d-b20800b1c3f0",
   "metadata": {},
   "outputs": [],
   "source": [
    "# Loads\n",
    "# Soil\n",
    "q_soil = ka*gamma_s*((h+tc+D)/1000)*(L/1000) # kPa\n",
    "q_eq = 0.25*gamma_s*((h+tc+D)/1000)*(L/1000) # kPa\n",
    "\n",
    "# compaction\n",
    "q_comp = 5 # kPa\n",
    "\n",
    "# surcharge\n",
    "W_dl = 2.4 # kPa\n",
    "W_ll = 4.8 # kpa\n",
    "\n",
    "# Wall Loads\n",
    "P_dl = 100 # kN/m\n",
    "P_sl = 200 # kN/m\n",
    "\n",
    "wall.Add_Load(Load_Type.HYDROSTATIC, Load_Category.SOIL, 'soil', q_soil)\n",
    "wall.Add_Load(Load_Type.HYDROSTATIC, Load_Category.SEISMIC, 'eq', q_eq)\n",
    "\n",
    "wall.Add_Load(Load_Type.SURCHARGE, Load_Category.COMPACTION, 'comp', q_comp)\n",
    "\n",
    "wall.Add_Load(Load_Type.SURCHARGE, Load_Category.DEAD, 'dl', W_dl)\n",
    "wall.Add_Load(Load_Type.SURCHARGE, Load_Category.LIVE, 'll', W_ll)\n",
    "\n",
    "wall.Add_Load(Load_Type.WALL, Load_Category.DEAD, 'wall_dl', P_dl)\n",
    "wall.Add_Load(Load_Type.WALL, Load_Category.SNOW, 'wall_sl', P_sl)"
   ]
  },
  {
   "cell_type": "code",
   "execution_count": 55,
   "id": "5ddb6523-8db2-4ce4-9fd4-9178094a5cc7",
   "metadata": {},
   "outputs": [],
   "source": [
    "for k, load in wall.Loads.items():\n",
    "    pass\n",
    "    #print(load.Category)\n",
    "    #print(load.Type)"
   ]
  },
  {
   "cell_type": "code",
   "execution_count": 68,
   "id": "14967541-f44a-4b8c-b0a3-407041bfa3b3",
   "metadata": {},
   "outputs": [],
   "source": [
    "def Sum_Loads(loads: Dict, load_type: Load_Type)-> Dict:\n",
    "    load_dict = {\n",
    "        'Dead': 0,\n",
    "        'Live': 0,\n",
    "        'Storage': 0,\n",
    "        'Snow': 0,\n",
    "        'Seismic': 0,\n",
    "        'Soil': 0,\n",
    "        'Compaction': 0\n",
    "    }\n",
    "    for k, load in loads.items():\n",
    "        if load.Type == load_type:\n",
    "            if load.Category == Load_Category.DEAD:\n",
    "                load_dict['Dead'] =+ load.Value\n",
    "            if load.Category == Load_Category.LIVE:\n",
    "                load_dict['Live'] =+ load.Value\n",
    "            if load.Category == Load_Category.STORAGE_LIVE:\n",
    "                load_dict['Storage'] =+ load.Value\n",
    "            if load.Category == Load_Category.SNOW:\n",
    "                load_dict['Snow'] =+ load.Value\n",
    "            if load.Category == Load_Category.SEISMIC:\n",
    "                load_dict['Seismic'] =+ load.Value\n",
    "            if load.Category == Load_Category.SOIL:\n",
    "                load_dict['Soil'] =+ load.Value\n",
    "            if load.Category == Load_Category.COMPACTION:\n",
    "                load_dict['Compatcion'] =+ load.Value\n",
    "    return load_dict\n",
    "\n",
    "def Load_Combos(load_dict: Dict) -> Dict:\n",
    "    combo_dict = {}\n",
    "    combo_dict['1.4DL'] = load_dict['Dead'] * 1.4\n",
    "    combo_dict['1.25DL+1.5LL+1.0SL'] = load_dict['Dead'] * 1.25 + load_dict['Live'] * 1.5 + load_dict['Snow'] * 1.0\n",
    "    combo_dict['1.25DL+1.5SL+1.0LL'] = load_dict['Dead'] * 1.25 + load_dict['Snow'] * 1.5 + load_dict['Live'] * 1.0\n",
    "    combo_dict['1.25DL+1.5LL'] = load_dict['Dead'] * 1.25 + load_dict['Live'] * 1.5 \n",
    "    combo_dict['1.25DL+1.5SL'] = load_dict['Dead'] * 1.25 + load_dict['Snow'] * 1.5 \n",
    "    # combo_df = pd.DataFrame(combo_dict)\n",
    "    return combo_dict"
   ]
  },
  {
   "cell_type": "code",
   "execution_count": 74,
   "id": "00bcf928-3137-4a3f-92c7-143344f49bb6",
   "metadata": {},
   "outputs": [
    {
     "data": {
      "text/html": [
       "<pre style=\"white-space:pre;overflow-x:auto;line-height:normal;font-family:Menlo,'DejaVu Sans Mono',consolas,'Courier New',monospace\"><span style=\"font-weight: bold\">{</span>\n",
       "    <span style=\"color: #008000; text-decoration-color: #008000\">'1.4DL'</span>: <span style=\"color: #008080; text-decoration-color: #008080; font-weight: bold\">140.0</span>,\n",
       "    <span style=\"color: #008000; text-decoration-color: #008000\">'1.25DL+1.5LL+1.0SL'</span>: <span style=\"color: #008080; text-decoration-color: #008080; font-weight: bold\">325.0</span>,\n",
       "    <span style=\"color: #008000; text-decoration-color: #008000\">'1.25DL+1.5SL+1.0LL'</span>: <span style=\"color: #008080; text-decoration-color: #008080; font-weight: bold\">425.0</span>,\n",
       "    <span style=\"color: #008000; text-decoration-color: #008000\">'1.25DL+1.5LL'</span>: <span style=\"color: #008080; text-decoration-color: #008080; font-weight: bold\">125.0</span>,\n",
       "    <span style=\"color: #008000; text-decoration-color: #008000\">'1.25DL+1.5SL'</span>: <span style=\"color: #008080; text-decoration-color: #008080; font-weight: bold\">425.0</span>\n",
       "<span style=\"font-weight: bold\">}</span>\n",
       "</pre>\n"
      ],
      "text/plain": [
       "\u001b[1m{\u001b[0m\n",
       "    \u001b[32m'1.4DL'\u001b[0m: \u001b[1;36m140.0\u001b[0m,\n",
       "    \u001b[32m'1.25DL+1.5LL+1.0SL'\u001b[0m: \u001b[1;36m325.0\u001b[0m,\n",
       "    \u001b[32m'1.25DL+1.5SL+1.0LL'\u001b[0m: \u001b[1;36m425.0\u001b[0m,\n",
       "    \u001b[32m'1.25DL+1.5LL'\u001b[0m: \u001b[1;36m125.0\u001b[0m,\n",
       "    \u001b[32m'1.25DL+1.5SL'\u001b[0m: \u001b[1;36m425.0\u001b[0m\n",
       "\u001b[1m}\u001b[0m\n"
      ]
     },
     "metadata": {},
     "output_type": "display_data"
    }
   ],
   "source": [
    "hydro_loads = {}\n",
    "sur_loads = {}\n",
    "wall_loads = {}\n",
    "\n",
    "hydro_loads = Sum_Loads(wall.Loads, Load_Type.HYDROSTATIC)\n",
    "sur_loads = Sum_Loads(wall.Loads, Load_Type.SURCHARGE)\n",
    "wall_loads = Sum_Loads(wall.Loads, Load_Type.WALL)\n",
    "\n",
    "hydro_combos = Load_Combos(hydro_loads)\n",
    "sur_combos = Load_Combos(sur_loads)\n",
    "wall_combos = Load_Combos(wall_loads)\n",
    "\n",
    "print(wall_combos)"
   ]
  },
  {
   "cell_type": "code",
   "execution_count": null,
   "id": "acc50ef9-5f7c-40c7-9056-6ed5c86d3b35",
   "metadata": {},
   "outputs": [],
   "source": [
    "# load cases\n",
    "loads = {}\n",
    "# Construction\n",
    "q_soil\n",
    "q_comp\n",
    "blend = True\n",
    "if blend:\n",
    "    x = q_comp/(ka*gamma_s*(L/1000))*1000\n",
    "    if x > (h+tc+D):\n",
    "        x = 0\n",
    "P_comp = q_comp*(h+tc+D)/1000*L/1000\n",
    "P_soil = q_soil*x/2000\n",
    "\n",
    "V = P_comp + P_soil\n",
    "M = P_comp*(h+tc+D)/2000 + P_soil * (h+tc+D)/3000\n",
    "geo_loads['LC1'] = [V,M]\n",
    "\n",
    "# Service\n",
    "q_soil\n",
    "q_comp\n",
    "blend = True\n",
    "if blend:\n",
    "    x = q_comp/(ka*gamma_s*(L/1000))*1000\n",
    "    if x > (h+tc+D):\n",
    "        x = 0\n",
    "P_comp = q_comp*(h+tc+D)/1000*L/1000\n",
    "P_soil = q_soil*x/2000\n",
    "\n",
    "P = P_comp + P_soil\n",
    "M = P_comp*(h+tc+D)/2000 + P_soil * (h+tc+D)/3000\n",
    "loads['LC1'] = [P,M]"
   ]
  }
 ],
 "metadata": {
  "kernelspec": {
   "display_name": "Python 3 (ipykernel)",
   "language": "python",
   "name": "python3"
  },
  "language_info": {
   "codemirror_mode": {
    "name": "ipython",
    "version": 3
   },
   "file_extension": ".py",
   "mimetype": "text/x-python",
   "name": "python",
   "nbconvert_exporter": "python",
   "pygments_lexer": "ipython3",
   "version": "3.10.12"
  }
 },
 "nbformat": 4,
 "nbformat_minor": 5
}
