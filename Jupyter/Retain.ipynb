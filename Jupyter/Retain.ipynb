{
 "cells": [
  {
   "cell_type": "code",
   "execution_count": 9,
   "id": "af4b3243-e185-435b-bd9f-b4fecacb9210",
   "metadata": {},
   "outputs": [],
   "source": [
    "from typing import Dict\n",
    "from rich import print\n",
    "import pandas as pd\n",
    "import numpy as np\n",
    "import matplotlib.pyplot as plt\n",
    "#custom imports\n",
    "from Load import Load_Type, Load_Category, Load, Wall, Concrete"
   ]
  },
  {
   "cell_type": "code",
   "execution_count": 10,
   "id": "67477807-5fa8-44ca-9ac5-392049d6d565",
   "metadata": {},
   "outputs": [],
   "source": [
    "#Soil Properties\n",
    "gamma_s = 19.0 # kPa/m\n",
    "ka = 0.33\n",
    "ko = 0\n",
    "kp = 3.0\n",
    "\n",
    "# concrete properties\n",
    "fc = 25 # MPa\n",
    "Ec = 4500*(fc**0.5) # MPa\n",
    "alpha1 = 0.91\n",
    "beta1 = 0.81\n",
    "\n",
    "C25 = Concrete('C25', fc)"
   ]
  },
  {
   "cell_type": "code",
   "execution_count": 11,
   "id": "04f9e8d8-14e4-4270-824c-e3b86a1bbdf3",
   "metadata": {},
   "outputs": [],
   "source": [
    "# Geometry\n",
    "# Wall\n",
    "h = 1800 # mm\n",
    "tw = 200 # mm\n",
    "L = 1000 # mm\n",
    "\n",
    "# Footing\n",
    "tc = 300 # mm\n",
    "toe = 250 # mm\n",
    "b = 1500 # mm\n",
    "D = 300 # mm\n",
    "heel = b-toe-tw # mm\n",
    "\n",
    "wall = Wall('wall1', h, tw, toe, b, D, heel, C25)"
   ]
  },
  {
   "cell_type": "code",
   "execution_count": 20,
   "id": "41fc4081-3a68-4fe8-a57d-b20800b1c3f0",
   "metadata": {},
   "outputs": [
    {
     "data": {
      "text/html": [
       "<pre style=\"white-space:pre;overflow-x:auto;line-height:normal;font-family:Menlo,'DejaVu Sans Mono',consolas,'Courier New',monospace\">soil - <span style=\"color: #008080; text-decoration-color: #008080; font-weight: bold\">15.048</span>\n",
       "</pre>\n"
      ],
      "text/plain": [
       "soil - \u001b[1;36m15.048\u001b[0m\n"
      ]
     },
     "metadata": {},
     "output_type": "display_data"
    },
    {
     "data": {
      "text/html": [
       "<pre style=\"white-space:pre;overflow-x:auto;line-height:normal;font-family:Menlo,'DejaVu Sans Mono',consolas,'Courier New',monospace\">eq - <span style=\"color: #008080; text-decoration-color: #008080; font-weight: bold\">11.4</span>\n",
       "</pre>\n"
      ],
      "text/plain": [
       "eq - \u001b[1;36m11.4\u001b[0m\n"
      ]
     },
     "metadata": {},
     "output_type": "display_data"
    },
    {
     "data": {
      "text/html": [
       "<pre style=\"white-space:pre;overflow-x:auto;line-height:normal;font-family:Menlo,'DejaVu Sans Mono',consolas,'Courier New',monospace\">cop - <span style=\"color: #008080; text-decoration-color: #008080; font-weight: bold\">5</span>\n",
       "</pre>\n"
      ],
      "text/plain": [
       "cop - \u001b[1;36m5\u001b[0m\n"
      ]
     },
     "metadata": {},
     "output_type": "display_data"
    },
    {
     "data": {
      "text/html": [
       "<pre style=\"white-space:pre;overflow-x:auto;line-height:normal;font-family:Menlo,'DejaVu Sans Mono',consolas,'Courier New',monospace\">dl - <span style=\"color: #008080; text-decoration-color: #008080; font-weight: bold\">2.4</span>\n",
       "</pre>\n"
      ],
      "text/plain": [
       "dl - \u001b[1;36m2.4\u001b[0m\n"
      ]
     },
     "metadata": {},
     "output_type": "display_data"
    },
    {
     "data": {
      "text/html": [
       "<pre style=\"white-space:pre;overflow-x:auto;line-height:normal;font-family:Menlo,'DejaVu Sans Mono',consolas,'Courier New',monospace\">ll - <span style=\"color: #008080; text-decoration-color: #008080; font-weight: bold\">4.8</span>\n",
       "</pre>\n"
      ],
      "text/plain": [
       "ll - \u001b[1;36m4.8\u001b[0m\n"
      ]
     },
     "metadata": {},
     "output_type": "display_data"
    },
    {
     "data": {
      "text/html": [
       "<pre style=\"white-space:pre;overflow-x:auto;line-height:normal;font-family:Menlo,'DejaVu Sans Mono',consolas,'Courier New',monospace\">wall_dl - <span style=\"color: #008080; text-decoration-color: #008080; font-weight: bold\">100</span>\n",
       "</pre>\n"
      ],
      "text/plain": [
       "wall_dl - \u001b[1;36m100\u001b[0m\n"
      ]
     },
     "metadata": {},
     "output_type": "display_data"
    },
    {
     "data": {
      "text/html": [
       "<pre style=\"white-space:pre;overflow-x:auto;line-height:normal;font-family:Menlo,'DejaVu Sans Mono',consolas,'Courier New',monospace\">wall_sl - <span style=\"color: #008080; text-decoration-color: #008080; font-weight: bold\">200</span>\n",
       "</pre>\n"
      ],
      "text/plain": [
       "wall_sl - \u001b[1;36m200\u001b[0m\n"
      ]
     },
     "metadata": {},
     "output_type": "display_data"
    }
   ],
   "source": [
    "# Loads\n",
    "# Soil\n",
    "q_soil = ka*gamma_s*((h+tc+D)/1000)*(L/1000) # kPa\n",
    "q_eq = 0.25*gamma_s*((h+tc+D)/1000)*(L/1000) # kPa\n",
    "\n",
    "# compaction\n",
    "q_comp = 5 # kPa\n",
    "\n",
    "# surcharge\n",
    "W_dl = 2.4 # kPa\n",
    "W_ll = 4.8 # kpa\n",
    "\n",
    "# Wall Loads\n",
    "P_dl = 100 # kN/m\n",
    "P_sl = 200 # kN/m\n",
    "\n",
    "wall.Add_Load('SOIL', 'HYDROSTATIC', 'soil', q_soil)\n",
    "wall.Add_Load('SIESMIC', 'HYDROSTATIC', 'eq', q_eq)\n",
    "\n",
    "wall.Add_Load('COMPACTION', 'SURCHARGE', 'cop', q_comp)\n",
    "\n",
    "wall.Add_Load('DEAD', 'SURCHARGE', 'dl', W_dl)\n",
    "wall.Add_Load('LIVE', 'SURCHARGE', 'll', W_ll)\n",
    "\n",
    "wall.Add_Load('DEAD', 'WALL', 'wall_dl', P_dl)\n",
    "wall.Add_Load('SNOW', 'WALL', 'wall_sl', P_sl)\n",
    "\n",
    "for k, load in wall.Loads.items():\n",
    "    print(f\"{k} - {load.Value}\")"
   ]
  },
  {
   "cell_type": "code",
   "execution_count": 22,
   "id": "00bcf928-3137-4a3f-92c7-143344f49bb6",
   "metadata": {},
   "outputs": [
    {
     "data": {
      "text/html": [
       "<pre style=\"white-space:pre;overflow-x:auto;line-height:normal;font-family:Menlo,'DejaVu Sans Mono',consolas,'Courier New',monospace\"><span style=\"font-weight: bold\">{</span>\n",
       "    <span style=\"color: #008000; text-decoration-color: #008000\">'hydro_combo_dict'</span>: <span style=\"font-weight: bold\">{</span><span style=\"color: #008000; text-decoration-color: #008000\">'1.4dl'</span>: <span style=\"color: #008080; text-decoration-color: #008080; font-weight: bold\">0.0</span>, <span style=\"color: #008000; text-decoration-color: #008000\">'1.25dl+1.5ll'</span>: <span style=\"color: #008080; text-decoration-color: #008080; font-weight: bold\">0.0</span><span style=\"font-weight: bold\">}</span>,\n",
       "    <span style=\"color: #008000; text-decoration-color: #008000\">'surcharge_combo_dict'</span>: <span style=\"font-weight: bold\">{</span><span style=\"color: #008000; text-decoration-color: #008000\">'1.4dl'</span>: <span style=\"color: #008080; text-decoration-color: #008080; font-weight: bold\">0.0</span>, <span style=\"color: #008000; text-decoration-color: #008000\">'1.25dl+1.5ll'</span>: <span style=\"color: #008080; text-decoration-color: #008080; font-weight: bold\">0.0</span><span style=\"font-weight: bold\">}</span>,\n",
       "    <span style=\"color: #008000; text-decoration-color: #008000\">'wall_combo_dict'</span>: <span style=\"font-weight: bold\">{</span><span style=\"color: #008000; text-decoration-color: #008000\">'1.4dl'</span>: <span style=\"color: #008080; text-decoration-color: #008080; font-weight: bold\">0.0</span>, <span style=\"color: #008000; text-decoration-color: #008000\">'1.25dl+1.5ll'</span>: <span style=\"color: #008080; text-decoration-color: #008080; font-weight: bold\">0.0</span><span style=\"font-weight: bold\">}</span>\n",
       "<span style=\"font-weight: bold\">}</span>\n",
       "</pre>\n"
      ],
      "text/plain": [
       "\u001b[1m{\u001b[0m\n",
       "    \u001b[32m'hydro_combo_dict'\u001b[0m: \u001b[1m{\u001b[0m\u001b[32m'1.4dl'\u001b[0m: \u001b[1;36m0.0\u001b[0m, \u001b[32m'1.25dl+1.5ll'\u001b[0m: \u001b[1;36m0.0\u001b[0m\u001b[1m}\u001b[0m,\n",
       "    \u001b[32m'surcharge_combo_dict'\u001b[0m: \u001b[1m{\u001b[0m\u001b[32m'1.4dl'\u001b[0m: \u001b[1;36m0.0\u001b[0m, \u001b[32m'1.25dl+1.5ll'\u001b[0m: \u001b[1;36m0.0\u001b[0m\u001b[1m}\u001b[0m,\n",
       "    \u001b[32m'wall_combo_dict'\u001b[0m: \u001b[1m{\u001b[0m\u001b[32m'1.4dl'\u001b[0m: \u001b[1;36m0.0\u001b[0m, \u001b[32m'1.25dl+1.5ll'\u001b[0m: \u001b[1;36m0.0\u001b[0m\u001b[1m}\u001b[0m\n",
       "\u001b[1m}\u001b[0m\n"
      ]
     },
     "metadata": {},
     "output_type": "display_data"
    }
   ],
   "source": [
    "def create_load_combinations(loads_dict: Dict[str, Load]):\n",
    "    # Define load factors and load combinations\n",
    "    load_factors = {\n",
    "        Load_Category.DEAD: 1.25,\n",
    "        Load_Category.LIVE: 1.5,\n",
    "    }\n",
    "\n",
    "    # Aggregate values by Load_Type and Load_Category\n",
    "    aggregated_values = {}\n",
    "    for load in loads_dict.values():\n",
    "        key = (load.Type, load.Category)\n",
    "        if key in aggregated_values:\n",
    "            aggregated_values[key] += load.Value\n",
    "        else:\n",
    "            aggregated_values[key] = load.Value\n",
    "\n",
    "    # Define a helper function to compute combinations for a specific Load_Type\n",
    "    def compute_combinations(load_type):\n",
    "        dead_load = aggregated_values.get((load_type, Load_Category.DEAD), 0)\n",
    "        live_load = aggregated_values.get((load_type, Load_Category.LIVE), 0)\n",
    "        snow_load = aggregated_values.get((load_type, Load_Category.SNOW), 0)\n",
    "        \n",
    "        \n",
    "        return {\n",
    "            \"1.4dl\": 1.4 * dead_load,\n",
    "            \"1.25dl+1.5ll\": 1.25 * dead_load + 1.5 * live_load\n",
    "        }\n",
    "\n",
    "    # Create combo dictionaries for each Load_Type\n",
    "    combinations = {\n",
    "        \"hydro_combo_dict\": compute_combinations(Load_Type.HYDOSTATIC),\n",
    "        \"surcharge_combo_dict\": compute_combinations(Load_Type.SURCHARGE),\n",
    "        \"wall_combo_dict\": compute_combinations(Load_Type.WALL),\n",
    "    }\n",
    "\n",
    "    return combinations\n",
    "\n",
    "# Sample usage\n",
    "combinations = create_load_combinations(wall.Loads)\n",
    "print(combinations)"
   ]
  },
  {
   "cell_type": "code",
   "execution_count": null,
   "id": "acc50ef9-5f7c-40c7-9056-6ed5c86d3b35",
   "metadata": {},
   "outputs": [],
   "source": [
    "# load cases\n",
    "loads = {}\n",
    "# Construction\n",
    "q_soil\n",
    "q_comp\n",
    "blend = True\n",
    "if blend:\n",
    "    x = q_comp/(ka*gamma_s*(L/1000))*1000\n",
    "    if x > (h+tc+D):\n",
    "        x = 0\n",
    "P_comp = q_comp*(h+tc+D)/1000*L/1000\n",
    "P_soil = q_soil*x/2000\n",
    "\n",
    "V = P_comp + P_soil\n",
    "M = P_comp*(h+tc+D)/2000 + P_soil * (h+tc+D)/3000\n",
    "geo_loads['LC1'] = [V,M]\n",
    "\n",
    "# Service\n",
    "q_soil\n",
    "q_comp\n",
    "blend = True\n",
    "if blend:\n",
    "    x = q_comp/(ka*gamma_s*(L/1000))*1000\n",
    "    if x > (h+tc+D):\n",
    "        x = 0\n",
    "P_comp = q_comp*(h+tc+D)/1000*L/1000\n",
    "P_soil = q_soil*x/2000\n",
    "\n",
    "P = P_comp + P_soil\n",
    "M = P_comp*(h+tc+D)/2000 + P_soil * (h+tc+D)/3000\n",
    "loads['LC1'] = [P,M]"
   ]
  }
 ],
 "metadata": {
  "kernelspec": {
   "display_name": "Python 3 (ipykernel)",
   "language": "python",
   "name": "python3"
  },
  "language_info": {
   "codemirror_mode": {
    "name": "ipython",
    "version": 3
   },
   "file_extension": ".py",
   "mimetype": "text/x-python",
   "name": "python",
   "nbconvert_exporter": "python",
   "pygments_lexer": "ipython3",
   "version": "3.10.12"
  }
 },
 "nbformat": 4,
 "nbformat_minor": 5
}
